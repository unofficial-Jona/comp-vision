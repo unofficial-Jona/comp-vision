{
  "nbformat": 4,
  "nbformat_minor": 0,
  "metadata": {
    "colab": {
      "name": "intro pytorch.ipynb",
      "provenance": [],
      "authorship_tag": "ABX9TyNzsulM0KGGHpc6mLTXeF/+",
      "include_colab_link": true
    },
    "kernelspec": {
      "name": "python3",
      "display_name": "Python 3"
    },
    "language_info": {
      "name": "python"
    },
    "accelerator": "GPU"
  },
  "cells": [
    {
      "cell_type": "markdown",
      "metadata": {
        "id": "view-in-github",
        "colab_type": "text"
      },
      "source": [
        "<a href=\"https://colab.research.google.com/github/unofficial-Jona/comp-vision/blob/main/Assignment%202/intro_pytorch.ipynb\" target=\"_parent\"><img src=\"https://colab.research.google.com/assets/colab-badge.svg\" alt=\"Open In Colab\"/></a>"
      ]
    },
    {
      "cell_type": "code",
      "metadata": {
        "id": "S0frKtGGy40S"
      },
      "source": [
        "import torch\n",
        "from torch import nn\n",
        "from torch.utils.data import DataLoader\n",
        "from torchvision import datasets\n",
        "from torchvision.transforms import ToTensor, Lambda, Compose\n",
        "import matplotlib.pyplot as plt"
      ],
      "execution_count": 10,
      "outputs": []
    },
    {
      "cell_type": "code",
      "metadata": {
        "id": "0jfQ0_nbzZI7"
      },
      "source": [
        "# Download training data from open datasets.\n",
        "training_data = datasets.FashionMNIST(\n",
        "    root=\"data\",\n",
        "    train=True,\n",
        "    download=True,\n",
        "    transform=ToTensor(),\n",
        ")\n",
        "\n",
        "# Download test data from open datasets.\n",
        "test_data = datasets.FashionMNIST(\n",
        "    root=\"data\",\n",
        "    train=False,\n",
        "    download=True,\n",
        "    transform=ToTensor(),\n",
        ")"
      ],
      "execution_count": 11,
      "outputs": []
    },
    {
      "cell_type": "code",
      "metadata": {
        "colab": {
          "base_uri": "https://localhost:8080/"
        },
        "id": "0EEJfRcbzeoK",
        "outputId": "3905028b-72eb-4b79-c886-c933f7861867"
      },
      "source": [
        "batch_size = 64\n",
        "\n",
        "# Create data loaders.\n",
        "train_dataloader = DataLoader(training_data, batch_size=batch_size)\n",
        "test_dataloader = DataLoader(test_data, batch_size=batch_size)\n",
        "\n",
        "for X, y in test_dataloader:\n",
        "    print(\"Shape of X [N, C, H, W]: \", X.shape)\n",
        "    print(\"Shape of y: \", y.shape, y.dtype)\n",
        "    break"
      ],
      "execution_count": 12,
      "outputs": [
        {
          "output_type": "stream",
          "text": [
            "Shape of X [N, C, H, W]:  torch.Size([64, 1, 28, 28])\n",
            "Shape of y:  torch.Size([64]) torch.int64\n"
          ],
          "name": "stdout"
        }
      ]
    },
    {
      "cell_type": "markdown",
      "metadata": {
        "id": "bvfEFyBh2ktB"
      },
      "source": [
        "### create the model"
      ]
    },
    {
      "cell_type": "code",
      "metadata": {
        "colab": {
          "base_uri": "https://localhost:8080/"
        },
        "id": "_hZxLK0X1Wot",
        "outputId": "425077da-88d2-46bb-a1ee-8f913dba416f"
      },
      "source": [
        "# Get cpu or gpu device for training.\n",
        "device = \"cuda\" if torch.cuda.is_available() else \"cpu\"\n",
        "print(\"Using {} device\".format(device))\n",
        "\n",
        "# Define model\n",
        "class NeuralNetwork(nn.Module):\n",
        "    def __init__(self):\n",
        "        super(NeuralNetwork, self).__init__()\n",
        "        self.flatten = nn.Flatten()\n",
        "        self.linear_relu_stack = nn.Sequential(\n",
        "            nn.Linear(28*28, 512),\n",
        "            nn.ReLU(),\n",
        "            nn.Linear(512, 512),\n",
        "            nn.ReLU(),\n",
        "            nn.Linear(512, 10),\n",
        "            nn.ReLU()\n",
        "        )\n",
        "\n",
        "    def forward(self, x):\n",
        "        x = self.flatten(x)\n",
        "        logits = self.linear_relu_stack(x)\n",
        "        return logits\n",
        "\n",
        "model = NeuralNetwork().to(device)\n",
        "print(model)"
      ],
      "execution_count": 13,
      "outputs": [
        {
          "output_type": "stream",
          "text": [
            "Using cuda device\n",
            "NeuralNetwork(\n",
            "  (flatten): Flatten(start_dim=1, end_dim=-1)\n",
            "  (linear_relu_stack): Sequential(\n",
            "    (0): Linear(in_features=784, out_features=512, bias=True)\n",
            "    (1): ReLU()\n",
            "    (2): Linear(in_features=512, out_features=512, bias=True)\n",
            "    (3): ReLU()\n",
            "    (4): Linear(in_features=512, out_features=10, bias=True)\n",
            "    (5): ReLU()\n",
            "  )\n",
            ")\n"
          ],
          "name": "stdout"
        }
      ]
    },
    {
      "cell_type": "code",
      "metadata": {
        "id": "03n45Irl1nfM"
      },
      "source": [
        "loss_fn = nn.CrossEntropyLoss()\n",
        "optimizer = torch.optim.SGD(model.parameters(), lr=1e-3)"
      ],
      "execution_count": 14,
      "outputs": []
    },
    {
      "cell_type": "markdown",
      "metadata": {
        "id": "U25v5KIA2iVq"
      },
      "source": [
        "### create the data loader"
      ]
    },
    {
      "cell_type": "code",
      "metadata": {
        "id": "KSHLLB5t1qrx"
      },
      "source": [
        "def train(dataloader, model, loss_fn, optimizer):\n",
        "    size = len(dataloader.dataset)\n",
        "    for batch, (X, y) in enumerate(dataloader):\n",
        "        X, y = X.to(device), y.to(device)\n",
        "\n",
        "        # Compute prediction error\n",
        "        pred = model(X)\n",
        "        loss = loss_fn(pred, y)\n",
        "\n",
        "        # Backpropagation\n",
        "        optimizer.zero_grad()\n",
        "        loss.backward()\n",
        "        optimizer.step()\n",
        "\n",
        "        if batch % 100 == 0:\n",
        "            loss, current = loss.item(), batch * len(X)\n",
        "            print(f\"loss: {loss:>7f}  [{current:>5d}/{size:>5d}]\")"
      ],
      "execution_count": 15,
      "outputs": []
    },
    {
      "cell_type": "markdown",
      "metadata": {
        "id": "6RlpDvM42hBe"
      },
      "source": [
        "### create the train function"
      ]
    },
    {
      "cell_type": "code",
      "metadata": {
        "id": "U3xYAhGh2IdR"
      },
      "source": [
        "def train(dataloader, model, loss_fn, optimizer):\n",
        "    size = len(dataloader.dataset)\n",
        "    for batch, (X, y) in enumerate(dataloader):\n",
        "        X, y = X.to(device), y.to(device)\n",
        "\n",
        "        # Compute prediction error\n",
        "        pred = model(X)\n",
        "        loss = loss_fn(pred, y)\n",
        "\n",
        "        # Backpropagation\n",
        "        optimizer.zero_grad()\n",
        "        loss.backward()\n",
        "        optimizer.step()\n",
        "\n",
        "        if batch % 100 == 0:\n",
        "            loss, current = loss.item(), batch * len(X)\n",
        "            print(f\"loss: {loss:>7f}  [{current:>5d}/{size:>5d}]\")"
      ],
      "execution_count": 16,
      "outputs": []
    },
    {
      "cell_type": "markdown",
      "metadata": {
        "id": "OpZ7zvms2Zcy"
      },
      "source": [
        "### ensure learning"
      ]
    },
    {
      "cell_type": "code",
      "metadata": {
        "id": "i00Qb_6-2Y18"
      },
      "source": [
        "def test(dataloader, model):\n",
        "    size = len(dataloader.dataset)\n",
        "    model.eval()\n",
        "    test_loss, correct = 0, 0\n",
        "    with torch.no_grad():\n",
        "        for X, y in dataloader:\n",
        "            X, y = X.to(device), y.to(device)\n",
        "            pred = model(X)\n",
        "            test_loss += loss_fn(pred, y).item()\n",
        "            correct += (pred.argmax(1) == y).type(torch.float).sum().item()\n",
        "    test_loss /= size\n",
        "    correct /= size\n",
        "    print(f\"Test Error: \\n Accuracy: {(100*correct):>0.1f}%, Avg loss: {test_loss:>8f} \\n\")"
      ],
      "execution_count": 17,
      "outputs": []
    },
    {
      "cell_type": "markdown",
      "metadata": {
        "id": "7tKlmHDx267c"
      },
      "source": [
        "### train the model"
      ]
    },
    {
      "cell_type": "code",
      "metadata": {
        "colab": {
          "base_uri": "https://localhost:8080/"
        },
        "id": "RFC1g89O28_S",
        "outputId": "709cc2f7-6ec7-4b7f-e702-de3860ebdb0a"
      },
      "source": [
        "epochs = 5\n",
        "for t in range(epochs):\n",
        "    print(f\"Epoch {t+1}\\n-------------------------------\")\n",
        "    train(train_dataloader, model, loss_fn, optimizer)\n",
        "    test(test_dataloader, model)\n",
        "print(\"Done!\")"
      ],
      "execution_count": 19,
      "outputs": [
        {
          "output_type": "stream",
          "text": [
            "Epoch 1\n",
            "-------------------------------\n",
            "loss: 1.756390  [    0/60000]\n",
            "loss: 1.735377  [ 6400/60000]\n",
            "loss: 1.457744  [12800/60000]\n",
            "loss: 1.556872  [19200/60000]\n",
            "loss: 1.579613  [25600/60000]\n",
            "loss: 1.438435  [32000/60000]\n",
            "loss: 1.641542  [38400/60000]\n",
            "loss: 1.495885  [44800/60000]\n",
            "loss: 1.569480  [51200/60000]\n",
            "loss: 1.518047  [57600/60000]\n",
            "Test Error: \n",
            " Accuracy: 54.6%, Avg loss: 0.023398 \n",
            "\n",
            "Epoch 2\n",
            "-------------------------------\n",
            "loss: 1.629404  [    0/60000]\n",
            "loss: 1.624304  [ 6400/60000]\n",
            "loss: 1.340179  [12800/60000]\n",
            "loss: 1.405532  [19200/60000]\n",
            "loss: 1.448307  [25600/60000]\n",
            "loss: 1.320686  [32000/60000]\n",
            "loss: 1.478866  [38400/60000]\n",
            "loss: 1.387240  [44800/60000]\n",
            "loss: 1.424806  [51200/60000]\n",
            "loss: 1.339617  [57600/60000]\n",
            "Test Error: \n",
            " Accuracy: 57.7%, Avg loss: 0.021508 \n",
            "\n",
            "Epoch 3\n",
            "-------------------------------\n",
            "loss: 1.513369  [    0/60000]\n",
            "loss: 1.523721  [ 6400/60000]\n",
            "loss: 1.241115  [12800/60000]\n",
            "loss: 1.280875  [19200/60000]\n",
            "loss: 1.342096  [25600/60000]\n",
            "loss: 1.223352  [32000/60000]\n",
            "loss: 1.349968  [38400/60000]\n",
            "loss: 1.304367  [44800/60000]\n",
            "loss: 1.323140  [51200/60000]\n",
            "loss: 1.220105  [57600/60000]\n",
            "Test Error: \n",
            " Accuracy: 58.4%, Avg loss: 0.020097 \n",
            "\n",
            "Epoch 4\n",
            "-------------------------------\n",
            "loss: 1.416799  [    0/60000]\n",
            "loss: 1.443787  [ 6400/60000]\n",
            "loss: 1.159585  [12800/60000]\n",
            "loss: 1.192959  [19200/60000]\n",
            "loss: 1.262991  [25600/60000]\n",
            "loss: 1.148621  [32000/60000]\n",
            "loss: 1.263196  [38400/60000]\n",
            "loss: 1.243695  [44800/60000]\n",
            "loss: 1.252620  [51200/60000]\n",
            "loss: 1.145779  [57600/60000]\n",
            "Test Error: \n",
            " Accuracy: 59.4%, Avg loss: 0.019098 \n",
            "\n",
            "Epoch 5\n",
            "-------------------------------\n",
            "loss: 1.343691  [    0/60000]\n",
            "loss: 1.385699  [ 6400/60000]\n",
            "loss: 1.095476  [12800/60000]\n",
            "loss: 1.130481  [19200/60000]\n",
            "loss: 1.207695  [25600/60000]\n",
            "loss: 1.092429  [32000/60000]\n",
            "loss: 1.204692  [38400/60000]\n",
            "loss: 1.199365  [44800/60000]\n",
            "loss: 1.201636  [51200/60000]\n",
            "loss: 1.097005  [57600/60000]\n",
            "Test Error: \n",
            " Accuracy: 60.8%, Avg loss: 0.018386 \n",
            "\n",
            "Done!\n"
          ],
          "name": "stdout"
        }
      ]
    },
    {
      "cell_type": "code",
      "metadata": {
        "colab": {
          "base_uri": "https://localhost:8080/"
        },
        "id": "Vbl2gDxM30EL",
        "outputId": "69ef7f99-50da-4610-e594-aeb19916f805"
      },
      "source": [
        "torch.save(model.state_dict(), \"model.pth\")\n",
        "print(\"Saved PyTorch Model State to model.pth\")"
      ],
      "execution_count": 20,
      "outputs": [
        {
          "output_type": "stream",
          "text": [
            "Saved PyTorch Model State to model.pth\n"
          ],
          "name": "stdout"
        }
      ]
    },
    {
      "cell_type": "code",
      "metadata": {
        "colab": {
          "base_uri": "https://localhost:8080/"
        },
        "id": "Sl5bnJmK4Aqt",
        "outputId": "05e04310-7013-430b-81e6-c40de80714a0"
      },
      "source": [
        "model = NeuralNetwork()\n",
        "model.load_state_dict(torch.load(\"model.pth\"))"
      ],
      "execution_count": 22,
      "outputs": [
        {
          "output_type": "execute_result",
          "data": {
            "text/plain": [
              "<All keys matched successfully>"
            ]
          },
          "metadata": {
            "tags": []
          },
          "execution_count": 22
        }
      ]
    },
    {
      "cell_type": "code",
      "metadata": {
        "colab": {
          "base_uri": "https://localhost:8080/"
        },
        "id": "9MSZHlQs4EtP",
        "outputId": "25c1670c-a443-4630-d81b-f7eb57d1c7b4"
      },
      "source": [
        "classes = [\n",
        "    \"T-shirt/top\",\n",
        "    \"Trouser\",\n",
        "    \"Pullover\",\n",
        "    \"Dress\",\n",
        "    \"Coat\",\n",
        "    \"Sandal\",\n",
        "    \"Shirt\",\n",
        "    \"Sneaker\",\n",
        "    \"Bag\",\n",
        "    \"Ankle boot\",\n",
        "]\n",
        "\n",
        "model.eval()\n",
        "test_v = 84\n",
        "x, y = test_data[test_v][0], test_data[test_v][1]\n",
        "with torch.no_grad():\n",
        "    pred = model(x)\n",
        "    predicted, actual = classes[pred[0].argmax(0)], classes[y]\n",
        "    print(f'Predicted: \"{predicted}\", Actual: \"{actual}\"')"
      ],
      "execution_count": 30,
      "outputs": [
        {
          "output_type": "stream",
          "text": [
            "Predicted: \"Sneaker\", Actual: \"Sandal\"\n"
          ],
          "name": "stdout"
        }
      ]
    }
  ]
}